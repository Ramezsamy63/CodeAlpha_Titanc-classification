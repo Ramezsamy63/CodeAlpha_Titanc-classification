{
 "cells": [
  {
   "cell_type": "markdown",
   "id": "969eee61",
   "metadata": {
    "papermill": {
     "duration": 0.011938,
     "end_time": "2024-04-01T18:25:21.303501",
     "exception": false,
     "start_time": "2024-04-01T18:25:21.291563",
     "status": "completed"
    },
    "tags": []
   },
   "source": [
    "\n"
   ]
  },
  {
   "cell_type": "markdown",
   "id": "fe3f8d3c",
   "metadata": {
    "papermill": {
     "duration": 0.011116,
     "end_time": "2024-04-01T18:25:21.326917",
     "exception": false,
     "start_time": "2024-04-01T18:25:21.315801",
     "status": "completed"
    },
    "tags": []
   },
   "source": [
    "# import needed libraries\n"
   ]
  },
  {
   "cell_type": "code",
   "execution_count": 1,
   "id": "fa431aa7",
   "metadata": {
    "execution": {
     "iopub.execute_input": "2024-04-01T18:25:21.352311Z",
     "iopub.status.busy": "2024-04-01T18:25:21.351726Z",
     "iopub.status.idle": "2024-04-01T18:25:24.683924Z",
     "shell.execute_reply": "2024-04-01T18:25:24.682936Z"
    },
    "papermill": {
     "duration": 3.349275,
     "end_time": "2024-04-01T18:25:24.687695",
     "exception": false,
     "start_time": "2024-04-01T18:25:21.338420",
     "status": "completed"
    },
    "tags": []
   },
   "outputs": [],
   "source": [
    "import pandas as pd\n",
    "import numpy as np\n",
    "import matplotlib.pyplot as plt\n",
    "import seaborn as sns\n",
    "from sklearn.model_selection import train_test_split\n",
    "from sklearn.preprocessing import StandardScaler\n",
    "from sklearn.ensemble import RandomForestClassifier\n",
    "from sklearn.metrics import accuracy_score, classification_report, confusion_matrix\n",
    "\n"
   ]
  },
  {
   "cell_type": "markdown",
   "id": "b08859a3",
   "metadata": {
    "papermill": {
     "duration": 0.013079,
     "end_time": "2024-04-01T18:25:24.717871",
     "exception": false,
     "start_time": "2024-04-01T18:25:24.704792",
     "status": "completed"
    },
    "tags": []
   },
   "source": [
    "# read and explore our data"
   ]
  },
  {
   "cell_type": "code",
   "execution_count": 2,
   "id": "bbcb5aa5",
   "metadata": {
    "execution": {
     "iopub.execute_input": "2024-04-01T18:25:24.743278Z",
     "iopub.status.busy": "2024-04-01T18:25:24.742318Z",
     "iopub.status.idle": "2024-04-01T18:25:24.790589Z",
     "shell.execute_reply": "2024-04-01T18:25:24.789391Z"
    },
    "papermill": {
     "duration": 0.065043,
     "end_time": "2024-04-01T18:25:24.794408",
     "exception": false,
     "start_time": "2024-04-01T18:25:24.729365",
     "status": "completed"
    },
    "tags": []
   },
   "outputs": [
    {
     "data": {
      "text/html": [
       "<div>\n",
       "<style scoped>\n",
       "    .dataframe tbody tr th:only-of-type {\n",
       "        vertical-align: middle;\n",
       "    }\n",
       "\n",
       "    .dataframe tbody tr th {\n",
       "        vertical-align: top;\n",
       "    }\n",
       "\n",
       "    .dataframe thead th {\n",
       "        text-align: right;\n",
       "    }\n",
       "</style>\n",
       "<table border=\"1\" class=\"dataframe\">\n",
       "  <thead>\n",
       "    <tr style=\"text-align: right;\">\n",
       "      <th></th>\n",
       "      <th>PassengerId</th>\n",
       "      <th>Survived</th>\n",
       "      <th>Pclass</th>\n",
       "      <th>Name</th>\n",
       "      <th>Sex</th>\n",
       "      <th>Age</th>\n",
       "      <th>SibSp</th>\n",
       "      <th>Parch</th>\n",
       "      <th>Ticket</th>\n",
       "      <th>Fare</th>\n",
       "      <th>Cabin</th>\n",
       "      <th>Embarked</th>\n",
       "    </tr>\n",
       "  </thead>\n",
       "  <tbody>\n",
       "    <tr>\n",
       "      <th>0</th>\n",
       "      <td>1</td>\n",
       "      <td>0</td>\n",
       "      <td>3</td>\n",
       "      <td>Braund, Mr. Owen Harris</td>\n",
       "      <td>male</td>\n",
       "      <td>22.0</td>\n",
       "      <td>1</td>\n",
       "      <td>0</td>\n",
       "      <td>A/5 21171</td>\n",
       "      <td>7.2500</td>\n",
       "      <td>NaN</td>\n",
       "      <td>S</td>\n",
       "    </tr>\n",
       "    <tr>\n",
       "      <th>1</th>\n",
       "      <td>2</td>\n",
       "      <td>1</td>\n",
       "      <td>1</td>\n",
       "      <td>Cumings, Mrs. John Bradley (Florence Briggs Th...</td>\n",
       "      <td>female</td>\n",
       "      <td>38.0</td>\n",
       "      <td>1</td>\n",
       "      <td>0</td>\n",
       "      <td>PC 17599</td>\n",
       "      <td>71.2833</td>\n",
       "      <td>C85</td>\n",
       "      <td>C</td>\n",
       "    </tr>\n",
       "    <tr>\n",
       "      <th>2</th>\n",
       "      <td>3</td>\n",
       "      <td>1</td>\n",
       "      <td>3</td>\n",
       "      <td>Heikkinen, Miss. Laina</td>\n",
       "      <td>female</td>\n",
       "      <td>26.0</td>\n",
       "      <td>0</td>\n",
       "      <td>0</td>\n",
       "      <td>STON/O2. 3101282</td>\n",
       "      <td>7.9250</td>\n",
       "      <td>NaN</td>\n",
       "      <td>S</td>\n",
       "    </tr>\n",
       "    <tr>\n",
       "      <th>3</th>\n",
       "      <td>4</td>\n",
       "      <td>1</td>\n",
       "      <td>1</td>\n",
       "      <td>Futrelle, Mrs. Jacques Heath (Lily May Peel)</td>\n",
       "      <td>female</td>\n",
       "      <td>35.0</td>\n",
       "      <td>1</td>\n",
       "      <td>0</td>\n",
       "      <td>113803</td>\n",
       "      <td>53.1000</td>\n",
       "      <td>C123</td>\n",
       "      <td>S</td>\n",
       "    </tr>\n",
       "    <tr>\n",
       "      <th>4</th>\n",
       "      <td>5</td>\n",
       "      <td>0</td>\n",
       "      <td>3</td>\n",
       "      <td>Allen, Mr. William Henry</td>\n",
       "      <td>male</td>\n",
       "      <td>35.0</td>\n",
       "      <td>0</td>\n",
       "      <td>0</td>\n",
       "      <td>373450</td>\n",
       "      <td>8.0500</td>\n",
       "      <td>NaN</td>\n",
       "      <td>S</td>\n",
       "    </tr>\n",
       "  </tbody>\n",
       "</table>\n",
       "</div>"
      ],
      "text/plain": [
       "   PassengerId  Survived  Pclass  \\\n",
       "0            1         0       3   \n",
       "1            2         1       1   \n",
       "2            3         1       3   \n",
       "3            4         1       1   \n",
       "4            5         0       3   \n",
       "\n",
       "                                                Name     Sex   Age  SibSp  \\\n",
       "0                            Braund, Mr. Owen Harris    male  22.0      1   \n",
       "1  Cumings, Mrs. John Bradley (Florence Briggs Th...  female  38.0      1   \n",
       "2                             Heikkinen, Miss. Laina  female  26.0      0   \n",
       "3       Futrelle, Mrs. Jacques Heath (Lily May Peel)  female  35.0      1   \n",
       "4                           Allen, Mr. William Henry    male  35.0      0   \n",
       "\n",
       "   Parch            Ticket     Fare Cabin Embarked  \n",
       "0      0         A/5 21171   7.2500   NaN        S  \n",
       "1      0          PC 17599  71.2833   C85        C  \n",
       "2      0  STON/O2. 3101282   7.9250   NaN        S  \n",
       "3      0            113803  53.1000  C123        S  \n",
       "4      0            373450   8.0500   NaN        S  "
      ]
     },
     "execution_count": 2,
     "metadata": {},
     "output_type": "execute_result"
    }
   ],
   "source": [
    "# Load the Titanic Dataset\n",
    "df = pd.read_csv(\"/kaggle/input/titanc/Titanic-Dataset.csv\")\n",
    "\n",
    "# Display the first few rows of the dataset\n",
    "df.head()"
   ]
  },
  {
   "cell_type": "code",
   "execution_count": 3,
   "id": "99778ea7",
   "metadata": {
    "execution": {
     "iopub.execute_input": "2024-04-01T18:25:24.821826Z",
     "iopub.status.busy": "2024-04-01T18:25:24.821085Z",
     "iopub.status.idle": "2024-04-01T18:25:24.865515Z",
     "shell.execute_reply": "2024-04-01T18:25:24.864136Z"
    },
    "papermill": {
     "duration": 0.061357,
     "end_time": "2024-04-01T18:25:24.868641",
     "exception": false,
     "start_time": "2024-04-01T18:25:24.807284",
     "status": "completed"
    },
    "tags": []
   },
   "outputs": [
    {
     "data": {
      "text/html": [
       "<div>\n",
       "<style scoped>\n",
       "    .dataframe tbody tr th:only-of-type {\n",
       "        vertical-align: middle;\n",
       "    }\n",
       "\n",
       "    .dataframe tbody tr th {\n",
       "        vertical-align: top;\n",
       "    }\n",
       "\n",
       "    .dataframe thead th {\n",
       "        text-align: right;\n",
       "    }\n",
       "</style>\n",
       "<table border=\"1\" class=\"dataframe\">\n",
       "  <thead>\n",
       "    <tr style=\"text-align: right;\">\n",
       "      <th></th>\n",
       "      <th>PassengerId</th>\n",
       "      <th>Survived</th>\n",
       "      <th>Pclass</th>\n",
       "      <th>Age</th>\n",
       "      <th>SibSp</th>\n",
       "      <th>Parch</th>\n",
       "      <th>Fare</th>\n",
       "    </tr>\n",
       "  </thead>\n",
       "  <tbody>\n",
       "    <tr>\n",
       "      <th>count</th>\n",
       "      <td>891.000000</td>\n",
       "      <td>891.000000</td>\n",
       "      <td>891.000000</td>\n",
       "      <td>714.000000</td>\n",
       "      <td>891.000000</td>\n",
       "      <td>891.000000</td>\n",
       "      <td>891.000000</td>\n",
       "    </tr>\n",
       "    <tr>\n",
       "      <th>mean</th>\n",
       "      <td>446.000000</td>\n",
       "      <td>0.383838</td>\n",
       "      <td>2.308642</td>\n",
       "      <td>29.699118</td>\n",
       "      <td>0.523008</td>\n",
       "      <td>0.381594</td>\n",
       "      <td>32.204208</td>\n",
       "    </tr>\n",
       "    <tr>\n",
       "      <th>std</th>\n",
       "      <td>257.353842</td>\n",
       "      <td>0.486592</td>\n",
       "      <td>0.836071</td>\n",
       "      <td>14.526497</td>\n",
       "      <td>1.102743</td>\n",
       "      <td>0.806057</td>\n",
       "      <td>49.693429</td>\n",
       "    </tr>\n",
       "    <tr>\n",
       "      <th>min</th>\n",
       "      <td>1.000000</td>\n",
       "      <td>0.000000</td>\n",
       "      <td>1.000000</td>\n",
       "      <td>0.420000</td>\n",
       "      <td>0.000000</td>\n",
       "      <td>0.000000</td>\n",
       "      <td>0.000000</td>\n",
       "    </tr>\n",
       "    <tr>\n",
       "      <th>25%</th>\n",
       "      <td>223.500000</td>\n",
       "      <td>0.000000</td>\n",
       "      <td>2.000000</td>\n",
       "      <td>20.125000</td>\n",
       "      <td>0.000000</td>\n",
       "      <td>0.000000</td>\n",
       "      <td>7.910400</td>\n",
       "    </tr>\n",
       "    <tr>\n",
       "      <th>50%</th>\n",
       "      <td>446.000000</td>\n",
       "      <td>0.000000</td>\n",
       "      <td>3.000000</td>\n",
       "      <td>28.000000</td>\n",
       "      <td>0.000000</td>\n",
       "      <td>0.000000</td>\n",
       "      <td>14.454200</td>\n",
       "    </tr>\n",
       "    <tr>\n",
       "      <th>75%</th>\n",
       "      <td>668.500000</td>\n",
       "      <td>1.000000</td>\n",
       "      <td>3.000000</td>\n",
       "      <td>38.000000</td>\n",
       "      <td>1.000000</td>\n",
       "      <td>0.000000</td>\n",
       "      <td>31.000000</td>\n",
       "    </tr>\n",
       "    <tr>\n",
       "      <th>max</th>\n",
       "      <td>891.000000</td>\n",
       "      <td>1.000000</td>\n",
       "      <td>3.000000</td>\n",
       "      <td>80.000000</td>\n",
       "      <td>8.000000</td>\n",
       "      <td>6.000000</td>\n",
       "      <td>512.329200</td>\n",
       "    </tr>\n",
       "  </tbody>\n",
       "</table>\n",
       "</div>"
      ],
      "text/plain": [
       "       PassengerId    Survived      Pclass         Age       SibSp  \\\n",
       "count   891.000000  891.000000  891.000000  714.000000  891.000000   \n",
       "mean    446.000000    0.383838    2.308642   29.699118    0.523008   \n",
       "std     257.353842    0.486592    0.836071   14.526497    1.102743   \n",
       "min       1.000000    0.000000    1.000000    0.420000    0.000000   \n",
       "25%     223.500000    0.000000    2.000000   20.125000    0.000000   \n",
       "50%     446.000000    0.000000    3.000000   28.000000    0.000000   \n",
       "75%     668.500000    1.000000    3.000000   38.000000    1.000000   \n",
       "max     891.000000    1.000000    3.000000   80.000000    8.000000   \n",
       "\n",
       "            Parch        Fare  \n",
       "count  891.000000  891.000000  \n",
       "mean     0.381594   32.204208  \n",
       "std      0.806057   49.693429  \n",
       "min      0.000000    0.000000  \n",
       "25%      0.000000    7.910400  \n",
       "50%      0.000000   14.454200  \n",
       "75%      0.000000   31.000000  \n",
       "max      6.000000  512.329200  "
      ]
     },
     "execution_count": 3,
     "metadata": {},
     "output_type": "execute_result"
    }
   ],
   "source": [
    "df.describe()"
   ]
  },
  {
   "cell_type": "code",
   "execution_count": 4,
   "id": "9574c478",
   "metadata": {
    "execution": {
     "iopub.execute_input": "2024-04-01T18:25:24.905549Z",
     "iopub.status.busy": "2024-04-01T18:25:24.904619Z",
     "iopub.status.idle": "2024-04-01T18:25:24.938225Z",
     "shell.execute_reply": "2024-04-01T18:25:24.936702Z"
    },
    "papermill": {
     "duration": 0.056278,
     "end_time": "2024-04-01T18:25:24.941613",
     "exception": false,
     "start_time": "2024-04-01T18:25:24.885335",
     "status": "completed"
    },
    "tags": []
   },
   "outputs": [
    {
     "name": "stdout",
     "output_type": "stream",
     "text": [
      "<class 'pandas.core.frame.DataFrame'>\n",
      "RangeIndex: 891 entries, 0 to 890\n",
      "Data columns (total 12 columns):\n",
      " #   Column       Non-Null Count  Dtype  \n",
      "---  ------       --------------  -----  \n",
      " 0   PassengerId  891 non-null    int64  \n",
      " 1   Survived     891 non-null    int64  \n",
      " 2   Pclass       891 non-null    int64  \n",
      " 3   Name         891 non-null    object \n",
      " 4   Sex          891 non-null    object \n",
      " 5   Age          714 non-null    float64\n",
      " 6   SibSp        891 non-null    int64  \n",
      " 7   Parch        891 non-null    int64  \n",
      " 8   Ticket       891 non-null    object \n",
      " 9   Fare         891 non-null    float64\n",
      " 10  Cabin        204 non-null    object \n",
      " 11  Embarked     889 non-null    object \n",
      "dtypes: float64(2), int64(5), object(5)\n",
      "memory usage: 83.7+ KB\n"
     ]
    }
   ],
   "source": [
    "df.info()"
   ]
  },
  {
   "cell_type": "code",
   "execution_count": 5,
   "id": "36e28f08",
   "metadata": {
    "execution": {
     "iopub.execute_input": "2024-04-01T18:25:24.982557Z",
     "iopub.status.busy": "2024-04-01T18:25:24.980989Z",
     "iopub.status.idle": "2024-04-01T18:25:24.987971Z",
     "shell.execute_reply": "2024-04-01T18:25:24.986833Z"
    },
    "papermill": {
     "duration": 0.029787,
     "end_time": "2024-04-01T18:25:24.990874",
     "exception": false,
     "start_time": "2024-04-01T18:25:24.961087",
     "status": "completed"
    },
    "tags": []
   },
   "outputs": [
    {
     "name": "stdout",
     "output_type": "stream",
     "text": [
      "Index(['PassengerId', 'Survived', 'Pclass', 'Name', 'Sex', 'Age', 'SibSp',\n",
      "       'Parch', 'Ticket', 'Fare', 'Cabin', 'Embarked'],\n",
      "      dtype='object')\n"
     ]
    }
   ],
   "source": [
    "print(df.columns)"
   ]
  },
  {
   "cell_type": "code",
   "execution_count": 6,
   "id": "fa77d8a2",
   "metadata": {
    "execution": {
     "iopub.execute_input": "2024-04-01T18:25:25.020329Z",
     "iopub.status.busy": "2024-04-01T18:25:25.019640Z",
     "iopub.status.idle": "2024-04-01T18:25:25.029774Z",
     "shell.execute_reply": "2024-04-01T18:25:25.028951Z"
    },
    "papermill": {
     "duration": 0.027417,
     "end_time": "2024-04-01T18:25:25.032626",
     "exception": false,
     "start_time": "2024-04-01T18:25:25.005209",
     "status": "completed"
    },
    "tags": []
   },
   "outputs": [
    {
     "data": {
      "text/plain": [
       "PassengerId      0\n",
       "Survived         0\n",
       "Pclass           0\n",
       "Name             0\n",
       "Sex              0\n",
       "Age            177\n",
       "SibSp            0\n",
       "Parch            0\n",
       "Ticket           0\n",
       "Fare             0\n",
       "Cabin          687\n",
       "Embarked         2\n",
       "dtype: int64"
      ]
     },
     "execution_count": 6,
     "metadata": {},
     "output_type": "execute_result"
    }
   ],
   "source": [
    "df.isnull().sum()"
   ]
  },
  {
   "cell_type": "markdown",
   "id": "3ee92431",
   "metadata": {
    "papermill": {
     "duration": 0.012,
     "end_time": "2024-04-01T18:25:25.056887",
     "exception": false,
     "start_time": "2024-04-01T18:25:25.044887",
     "status": "completed"
    },
    "tags": []
   },
   "source": [
    "# handling missing values and drop empty coloumns"
   ]
  },
  {
   "cell_type": "code",
   "execution_count": 7,
   "id": "8ab5a33e",
   "metadata": {
    "execution": {
     "iopub.execute_input": "2024-04-01T18:25:25.084969Z",
     "iopub.status.busy": "2024-04-01T18:25:25.084514Z",
     "iopub.status.idle": "2024-04-01T18:25:25.093375Z",
     "shell.execute_reply": "2024-04-01T18:25:25.091729Z"
    },
    "papermill": {
     "duration": 0.025844,
     "end_time": "2024-04-01T18:25:25.096338",
     "exception": false,
     "start_time": "2024-04-01T18:25:25.070494",
     "status": "completed"
    },
    "tags": []
   },
   "outputs": [
    {
     "name": "stderr",
     "output_type": "stream",
     "text": [
      "/tmp/ipykernel_18/1933487976.py:1: FutureWarning: A value is trying to be set on a copy of a DataFrame or Series through chained assignment using an inplace method.\n",
      "The behavior will change in pandas 3.0. This inplace method will never work because the intermediate object on which we are setting values always behaves as a copy.\n",
      "\n",
      "For example, when doing 'df[col].method(value, inplace=True)', try using 'df.method({col: value}, inplace=True)' or df[col] = df[col].method(value) instead, to perform the operation inplace on the original object.\n",
      "\n",
      "\n",
      "  df['Age'].fillna(df['Age'].median(), inplace=True)\n"
     ]
    }
   ],
   "source": [
    "df['Age'].fillna(df['Age'].median(), inplace=True)"
   ]
  },
  {
   "cell_type": "code",
   "execution_count": 8,
   "id": "8d587c10",
   "metadata": {
    "execution": {
     "iopub.execute_input": "2024-04-01T18:25:25.134952Z",
     "iopub.status.busy": "2024-04-01T18:25:25.134377Z",
     "iopub.status.idle": "2024-04-01T18:25:25.145784Z",
     "shell.execute_reply": "2024-04-01T18:25:25.144453Z"
    },
    "papermill": {
     "duration": 0.034085,
     "end_time": "2024-04-01T18:25:25.149039",
     "exception": false,
     "start_time": "2024-04-01T18:25:25.114954",
     "status": "completed"
    },
    "tags": []
   },
   "outputs": [],
   "source": [
    "if 'Cabin' in df.columns:\n",
    "    df.drop(['Cabin'], axis=1, inplace=True)  # Drop 'Cabin' column due to many missing values\n"
   ]
  },
  {
   "cell_type": "code",
   "execution_count": 9,
   "id": "472776bb",
   "metadata": {
    "execution": {
     "iopub.execute_input": "2024-04-01T18:25:25.184277Z",
     "iopub.status.busy": "2024-04-01T18:25:25.183544Z",
     "iopub.status.idle": "2024-04-01T18:25:25.192502Z",
     "shell.execute_reply": "2024-04-01T18:25:25.191658Z"
    },
    "papermill": {
     "duration": 0.029233,
     "end_time": "2024-04-01T18:25:25.194987",
     "exception": false,
     "start_time": "2024-04-01T18:25:25.165754",
     "status": "completed"
    },
    "tags": []
   },
   "outputs": [
    {
     "data": {
      "text/plain": [
       "PassengerId    0\n",
       "Survived       0\n",
       "Pclass         0\n",
       "Name           0\n",
       "Sex            0\n",
       "Age            0\n",
       "SibSp          0\n",
       "Parch          0\n",
       "Ticket         0\n",
       "Fare           0\n",
       "Embarked       2\n",
       "dtype: int64"
      ]
     },
     "execution_count": 9,
     "metadata": {},
     "output_type": "execute_result"
    }
   ],
   "source": [
    "df.isnull().sum()"
   ]
  },
  {
   "cell_type": "code",
   "execution_count": 10,
   "id": "d9d0fac6",
   "metadata": {
    "execution": {
     "iopub.execute_input": "2024-04-01T18:25:25.223166Z",
     "iopub.status.busy": "2024-04-01T18:25:25.222351Z",
     "iopub.status.idle": "2024-04-01T18:25:25.235592Z",
     "shell.execute_reply": "2024-04-01T18:25:25.234076Z"
    },
    "papermill": {
     "duration": 0.030554,
     "end_time": "2024-04-01T18:25:25.238345",
     "exception": false,
     "start_time": "2024-04-01T18:25:25.207791",
     "status": "completed"
    },
    "tags": []
   },
   "outputs": [
    {
     "name": "stdout",
     "output_type": "stream",
     "text": [
      "<class 'pandas.core.frame.DataFrame'>\n",
      "RangeIndex: 891 entries, 0 to 890\n",
      "Data columns (total 11 columns):\n",
      " #   Column       Non-Null Count  Dtype  \n",
      "---  ------       --------------  -----  \n",
      " 0   PassengerId  891 non-null    int64  \n",
      " 1   Survived     891 non-null    int64  \n",
      " 2   Pclass       891 non-null    int64  \n",
      " 3   Name         891 non-null    object \n",
      " 4   Sex          891 non-null    object \n",
      " 5   Age          891 non-null    float64\n",
      " 6   SibSp        891 non-null    int64  \n",
      " 7   Parch        891 non-null    int64  \n",
      " 8   Ticket       891 non-null    object \n",
      " 9   Fare         891 non-null    float64\n",
      " 10  Embarked     889 non-null    object \n",
      "dtypes: float64(2), int64(5), object(4)\n",
      "memory usage: 76.7+ KB\n"
     ]
    }
   ],
   "source": [
    "df.info()"
   ]
  },
  {
   "cell_type": "markdown",
   "id": "84aaf88b",
   "metadata": {
    "papermill": {
     "duration": 0.012501,
     "end_time": "2024-04-01T18:25:25.264836",
     "exception": false,
     "start_time": "2024-04-01T18:25:25.252335",
     "status": "completed"
    },
    "tags": []
   },
   "source": [
    "# Convert categorical variables to numerical"
   ]
  },
  {
   "cell_type": "code",
   "execution_count": 11,
   "id": "9f6ba126",
   "metadata": {
    "execution": {
     "iopub.execute_input": "2024-04-01T18:25:25.292432Z",
     "iopub.status.busy": "2024-04-01T18:25:25.291643Z",
     "iopub.status.idle": "2024-04-01T18:25:25.302572Z",
     "shell.execute_reply": "2024-04-01T18:25:25.301321Z"
    },
    "papermill": {
     "duration": 0.028338,
     "end_time": "2024-04-01T18:25:25.305905",
     "exception": false,
     "start_time": "2024-04-01T18:25:25.277567",
     "status": "completed"
    },
    "tags": []
   },
   "outputs": [],
   "source": [
    "df = pd.get_dummies(df, columns=['Sex', 'Embarked'], drop_first=True) "
   ]
  },
  {
   "cell_type": "code",
   "execution_count": 12,
   "id": "ea0485fc",
   "metadata": {
    "execution": {
     "iopub.execute_input": "2024-04-01T18:25:25.333209Z",
     "iopub.status.busy": "2024-04-01T18:25:25.332733Z",
     "iopub.status.idle": "2024-04-01T18:25:25.346486Z",
     "shell.execute_reply": "2024-04-01T18:25:25.345353Z"
    },
    "papermill": {
     "duration": 0.030581,
     "end_time": "2024-04-01T18:25:25.349301",
     "exception": false,
     "start_time": "2024-04-01T18:25:25.318720",
     "status": "completed"
    },
    "tags": []
   },
   "outputs": [
    {
     "name": "stdout",
     "output_type": "stream",
     "text": [
      "<class 'pandas.core.frame.DataFrame'>\n",
      "RangeIndex: 891 entries, 0 to 890\n",
      "Data columns (total 12 columns):\n",
      " #   Column       Non-Null Count  Dtype  \n",
      "---  ------       --------------  -----  \n",
      " 0   PassengerId  891 non-null    int64  \n",
      " 1   Survived     891 non-null    int64  \n",
      " 2   Pclass       891 non-null    int64  \n",
      " 3   Name         891 non-null    object \n",
      " 4   Age          891 non-null    float64\n",
      " 5   SibSp        891 non-null    int64  \n",
      " 6   Parch        891 non-null    int64  \n",
      " 7   Ticket       891 non-null    object \n",
      " 8   Fare         891 non-null    float64\n",
      " 9   Sex_male     891 non-null    bool   \n",
      " 10  Embarked_Q   891 non-null    bool   \n",
      " 11  Embarked_S   891 non-null    bool   \n",
      "dtypes: bool(3), float64(2), int64(5), object(2)\n",
      "memory usage: 65.4+ KB\n"
     ]
    }
   ],
   "source": [
    "df.info()"
   ]
  },
  {
   "cell_type": "code",
   "execution_count": 13,
   "id": "476bf9ae",
   "metadata": {
    "execution": {
     "iopub.execute_input": "2024-04-01T18:25:25.378298Z",
     "iopub.status.busy": "2024-04-01T18:25:25.377544Z",
     "iopub.status.idle": "2024-04-01T18:25:25.394962Z",
     "shell.execute_reply": "2024-04-01T18:25:25.393783Z"
    },
    "papermill": {
     "duration": 0.035039,
     "end_time": "2024-04-01T18:25:25.397715",
     "exception": false,
     "start_time": "2024-04-01T18:25:25.362676",
     "status": "completed"
    },
    "tags": []
   },
   "outputs": [
    {
     "data": {
      "text/html": [
       "<div>\n",
       "<style scoped>\n",
       "    .dataframe tbody tr th:only-of-type {\n",
       "        vertical-align: middle;\n",
       "    }\n",
       "\n",
       "    .dataframe tbody tr th {\n",
       "        vertical-align: top;\n",
       "    }\n",
       "\n",
       "    .dataframe thead th {\n",
       "        text-align: right;\n",
       "    }\n",
       "</style>\n",
       "<table border=\"1\" class=\"dataframe\">\n",
       "  <thead>\n",
       "    <tr style=\"text-align: right;\">\n",
       "      <th></th>\n",
       "      <th>PassengerId</th>\n",
       "      <th>Survived</th>\n",
       "      <th>Pclass</th>\n",
       "      <th>Name</th>\n",
       "      <th>Age</th>\n",
       "      <th>SibSp</th>\n",
       "      <th>Parch</th>\n",
       "      <th>Ticket</th>\n",
       "      <th>Fare</th>\n",
       "      <th>Sex_male</th>\n",
       "      <th>Embarked_Q</th>\n",
       "      <th>Embarked_S</th>\n",
       "    </tr>\n",
       "  </thead>\n",
       "  <tbody>\n",
       "    <tr>\n",
       "      <th>0</th>\n",
       "      <td>1</td>\n",
       "      <td>0</td>\n",
       "      <td>3</td>\n",
       "      <td>Braund, Mr. Owen Harris</td>\n",
       "      <td>22.0</td>\n",
       "      <td>1</td>\n",
       "      <td>0</td>\n",
       "      <td>A/5 21171</td>\n",
       "      <td>7.2500</td>\n",
       "      <td>True</td>\n",
       "      <td>False</td>\n",
       "      <td>True</td>\n",
       "    </tr>\n",
       "    <tr>\n",
       "      <th>1</th>\n",
       "      <td>2</td>\n",
       "      <td>1</td>\n",
       "      <td>1</td>\n",
       "      <td>Cumings, Mrs. John Bradley (Florence Briggs Th...</td>\n",
       "      <td>38.0</td>\n",
       "      <td>1</td>\n",
       "      <td>0</td>\n",
       "      <td>PC 17599</td>\n",
       "      <td>71.2833</td>\n",
       "      <td>False</td>\n",
       "      <td>False</td>\n",
       "      <td>False</td>\n",
       "    </tr>\n",
       "    <tr>\n",
       "      <th>2</th>\n",
       "      <td>3</td>\n",
       "      <td>1</td>\n",
       "      <td>3</td>\n",
       "      <td>Heikkinen, Miss. Laina</td>\n",
       "      <td>26.0</td>\n",
       "      <td>0</td>\n",
       "      <td>0</td>\n",
       "      <td>STON/O2. 3101282</td>\n",
       "      <td>7.9250</td>\n",
       "      <td>False</td>\n",
       "      <td>False</td>\n",
       "      <td>True</td>\n",
       "    </tr>\n",
       "    <tr>\n",
       "      <th>3</th>\n",
       "      <td>4</td>\n",
       "      <td>1</td>\n",
       "      <td>1</td>\n",
       "      <td>Futrelle, Mrs. Jacques Heath (Lily May Peel)</td>\n",
       "      <td>35.0</td>\n",
       "      <td>1</td>\n",
       "      <td>0</td>\n",
       "      <td>113803</td>\n",
       "      <td>53.1000</td>\n",
       "      <td>False</td>\n",
       "      <td>False</td>\n",
       "      <td>True</td>\n",
       "    </tr>\n",
       "    <tr>\n",
       "      <th>4</th>\n",
       "      <td>5</td>\n",
       "      <td>0</td>\n",
       "      <td>3</td>\n",
       "      <td>Allen, Mr. William Henry</td>\n",
       "      <td>35.0</td>\n",
       "      <td>0</td>\n",
       "      <td>0</td>\n",
       "      <td>373450</td>\n",
       "      <td>8.0500</td>\n",
       "      <td>True</td>\n",
       "      <td>False</td>\n",
       "      <td>True</td>\n",
       "    </tr>\n",
       "  </tbody>\n",
       "</table>\n",
       "</div>"
      ],
      "text/plain": [
       "   PassengerId  Survived  Pclass  \\\n",
       "0            1         0       3   \n",
       "1            2         1       1   \n",
       "2            3         1       3   \n",
       "3            4         1       1   \n",
       "4            5         0       3   \n",
       "\n",
       "                                                Name   Age  SibSp  Parch  \\\n",
       "0                            Braund, Mr. Owen Harris  22.0      1      0   \n",
       "1  Cumings, Mrs. John Bradley (Florence Briggs Th...  38.0      1      0   \n",
       "2                             Heikkinen, Miss. Laina  26.0      0      0   \n",
       "3       Futrelle, Mrs. Jacques Heath (Lily May Peel)  35.0      1      0   \n",
       "4                           Allen, Mr. William Henry  35.0      0      0   \n",
       "\n",
       "             Ticket     Fare  Sex_male  Embarked_Q  Embarked_S  \n",
       "0         A/5 21171   7.2500      True       False        True  \n",
       "1          PC 17599  71.2833     False       False       False  \n",
       "2  STON/O2. 3101282   7.9250     False       False        True  \n",
       "3            113803  53.1000     False       False        True  \n",
       "4            373450   8.0500      True       False        True  "
      ]
     },
     "execution_count": 13,
     "metadata": {},
     "output_type": "execute_result"
    }
   ],
   "source": [
    "df.head()\n"
   ]
  },
  {
   "cell_type": "markdown",
   "id": "ac493861",
   "metadata": {
    "papermill": {
     "duration": 0.013499,
     "end_time": "2024-04-01T18:25:25.424286",
     "exception": false,
     "start_time": "2024-04-01T18:25:25.410787",
     "status": "completed"
    },
    "tags": []
   },
   "source": [
    "# split data into features and target"
   ]
  },
  {
   "cell_type": "code",
   "execution_count": 14,
   "id": "1e1caece",
   "metadata": {
    "execution": {
     "iopub.execute_input": "2024-04-01T18:25:25.453825Z",
     "iopub.status.busy": "2024-04-01T18:25:25.452795Z",
     "iopub.status.idle": "2024-04-01T18:25:25.460788Z",
     "shell.execute_reply": "2024-04-01T18:25:25.459337Z"
    },
    "papermill": {
     "duration": 0.025263,
     "end_time": "2024-04-01T18:25:25.463491",
     "exception": false,
     "start_time": "2024-04-01T18:25:25.438228",
     "status": "completed"
    },
    "tags": []
   },
   "outputs": [],
   "source": [
    "features = ['Pclass', 'Age', 'SibSp', 'Parch', 'Fare', 'Sex_male', 'Embarked_Q', 'Embarked_S']  # Note the change in case for 'embarked'\n",
    "X = df[features]\n",
    "y = df['Survived']"
   ]
  },
  {
   "cell_type": "code",
   "execution_count": 15,
   "id": "9ff61bac",
   "metadata": {
    "execution": {
     "iopub.execute_input": "2024-04-01T18:25:25.492261Z",
     "iopub.status.busy": "2024-04-01T18:25:25.491831Z",
     "iopub.status.idle": "2024-04-01T18:25:25.510752Z",
     "shell.execute_reply": "2024-04-01T18:25:25.509562Z"
    },
    "papermill": {
     "duration": 0.036285,
     "end_time": "2024-04-01T18:25:25.513405",
     "exception": false,
     "start_time": "2024-04-01T18:25:25.477120",
     "status": "completed"
    },
    "tags": []
   },
   "outputs": [
    {
     "data": {
      "text/html": [
       "<div>\n",
       "<style scoped>\n",
       "    .dataframe tbody tr th:only-of-type {\n",
       "        vertical-align: middle;\n",
       "    }\n",
       "\n",
       "    .dataframe tbody tr th {\n",
       "        vertical-align: top;\n",
       "    }\n",
       "\n",
       "    .dataframe thead th {\n",
       "        text-align: right;\n",
       "    }\n",
       "</style>\n",
       "<table border=\"1\" class=\"dataframe\">\n",
       "  <thead>\n",
       "    <tr style=\"text-align: right;\">\n",
       "      <th></th>\n",
       "      <th>Pclass</th>\n",
       "      <th>Age</th>\n",
       "      <th>SibSp</th>\n",
       "      <th>Parch</th>\n",
       "      <th>Fare</th>\n",
       "      <th>Sex_male</th>\n",
       "      <th>Embarked_Q</th>\n",
       "      <th>Embarked_S</th>\n",
       "    </tr>\n",
       "  </thead>\n",
       "  <tbody>\n",
       "    <tr>\n",
       "      <th>0</th>\n",
       "      <td>3</td>\n",
       "      <td>22.0</td>\n",
       "      <td>1</td>\n",
       "      <td>0</td>\n",
       "      <td>7.2500</td>\n",
       "      <td>True</td>\n",
       "      <td>False</td>\n",
       "      <td>True</td>\n",
       "    </tr>\n",
       "    <tr>\n",
       "      <th>1</th>\n",
       "      <td>1</td>\n",
       "      <td>38.0</td>\n",
       "      <td>1</td>\n",
       "      <td>0</td>\n",
       "      <td>71.2833</td>\n",
       "      <td>False</td>\n",
       "      <td>False</td>\n",
       "      <td>False</td>\n",
       "    </tr>\n",
       "    <tr>\n",
       "      <th>2</th>\n",
       "      <td>3</td>\n",
       "      <td>26.0</td>\n",
       "      <td>0</td>\n",
       "      <td>0</td>\n",
       "      <td>7.9250</td>\n",
       "      <td>False</td>\n",
       "      <td>False</td>\n",
       "      <td>True</td>\n",
       "    </tr>\n",
       "    <tr>\n",
       "      <th>3</th>\n",
       "      <td>1</td>\n",
       "      <td>35.0</td>\n",
       "      <td>1</td>\n",
       "      <td>0</td>\n",
       "      <td>53.1000</td>\n",
       "      <td>False</td>\n",
       "      <td>False</td>\n",
       "      <td>True</td>\n",
       "    </tr>\n",
       "    <tr>\n",
       "      <th>4</th>\n",
       "      <td>3</td>\n",
       "      <td>35.0</td>\n",
       "      <td>0</td>\n",
       "      <td>0</td>\n",
       "      <td>8.0500</td>\n",
       "      <td>True</td>\n",
       "      <td>False</td>\n",
       "      <td>True</td>\n",
       "    </tr>\n",
       "    <tr>\n",
       "      <th>...</th>\n",
       "      <td>...</td>\n",
       "      <td>...</td>\n",
       "      <td>...</td>\n",
       "      <td>...</td>\n",
       "      <td>...</td>\n",
       "      <td>...</td>\n",
       "      <td>...</td>\n",
       "      <td>...</td>\n",
       "    </tr>\n",
       "    <tr>\n",
       "      <th>886</th>\n",
       "      <td>2</td>\n",
       "      <td>27.0</td>\n",
       "      <td>0</td>\n",
       "      <td>0</td>\n",
       "      <td>13.0000</td>\n",
       "      <td>True</td>\n",
       "      <td>False</td>\n",
       "      <td>True</td>\n",
       "    </tr>\n",
       "    <tr>\n",
       "      <th>887</th>\n",
       "      <td>1</td>\n",
       "      <td>19.0</td>\n",
       "      <td>0</td>\n",
       "      <td>0</td>\n",
       "      <td>30.0000</td>\n",
       "      <td>False</td>\n",
       "      <td>False</td>\n",
       "      <td>True</td>\n",
       "    </tr>\n",
       "    <tr>\n",
       "      <th>888</th>\n",
       "      <td>3</td>\n",
       "      <td>28.0</td>\n",
       "      <td>1</td>\n",
       "      <td>2</td>\n",
       "      <td>23.4500</td>\n",
       "      <td>False</td>\n",
       "      <td>False</td>\n",
       "      <td>True</td>\n",
       "    </tr>\n",
       "    <tr>\n",
       "      <th>889</th>\n",
       "      <td>1</td>\n",
       "      <td>26.0</td>\n",
       "      <td>0</td>\n",
       "      <td>0</td>\n",
       "      <td>30.0000</td>\n",
       "      <td>True</td>\n",
       "      <td>False</td>\n",
       "      <td>False</td>\n",
       "    </tr>\n",
       "    <tr>\n",
       "      <th>890</th>\n",
       "      <td>3</td>\n",
       "      <td>32.0</td>\n",
       "      <td>0</td>\n",
       "      <td>0</td>\n",
       "      <td>7.7500</td>\n",
       "      <td>True</td>\n",
       "      <td>True</td>\n",
       "      <td>False</td>\n",
       "    </tr>\n",
       "  </tbody>\n",
       "</table>\n",
       "<p>891 rows × 8 columns</p>\n",
       "</div>"
      ],
      "text/plain": [
       "     Pclass   Age  SibSp  Parch     Fare  Sex_male  Embarked_Q  Embarked_S\n",
       "0         3  22.0      1      0   7.2500      True       False        True\n",
       "1         1  38.0      1      0  71.2833     False       False       False\n",
       "2         3  26.0      0      0   7.9250     False       False        True\n",
       "3         1  35.0      1      0  53.1000     False       False        True\n",
       "4         3  35.0      0      0   8.0500      True       False        True\n",
       "..      ...   ...    ...    ...      ...       ...         ...         ...\n",
       "886       2  27.0      0      0  13.0000      True       False        True\n",
       "887       1  19.0      0      0  30.0000     False       False        True\n",
       "888       3  28.0      1      2  23.4500     False       False        True\n",
       "889       1  26.0      0      0  30.0000      True       False       False\n",
       "890       3  32.0      0      0   7.7500      True        True       False\n",
       "\n",
       "[891 rows x 8 columns]"
      ]
     },
     "execution_count": 15,
     "metadata": {},
     "output_type": "execute_result"
    }
   ],
   "source": [
    "X"
   ]
  },
  {
   "cell_type": "code",
   "execution_count": 16,
   "id": "cb9030b5",
   "metadata": {
    "execution": {
     "iopub.execute_input": "2024-04-01T18:25:25.542611Z",
     "iopub.status.busy": "2024-04-01T18:25:25.541903Z",
     "iopub.status.idle": "2024-04-01T18:25:25.550745Z",
     "shell.execute_reply": "2024-04-01T18:25:25.549543Z"
    },
    "papermill": {
     "duration": 0.026214,
     "end_time": "2024-04-01T18:25:25.552951",
     "exception": false,
     "start_time": "2024-04-01T18:25:25.526737",
     "status": "completed"
    },
    "tags": []
   },
   "outputs": [
    {
     "data": {
      "text/plain": [
       "0      0\n",
       "1      1\n",
       "2      1\n",
       "3      1\n",
       "4      0\n",
       "      ..\n",
       "886    0\n",
       "887    1\n",
       "888    0\n",
       "889    1\n",
       "890    0\n",
       "Name: Survived, Length: 891, dtype: int64"
      ]
     },
     "execution_count": 16,
     "metadata": {},
     "output_type": "execute_result"
    }
   ],
   "source": [
    "y"
   ]
  },
  {
   "cell_type": "markdown",
   "id": "7735534d",
   "metadata": {
    "papermill": {
     "duration": 0.013386,
     "end_time": "2024-04-01T18:25:25.579882",
     "exception": false,
     "start_time": "2024-04-01T18:25:25.566496",
     "status": "completed"
    },
    "tags": []
   },
   "source": [
    "# use train test split to split data into train and test"
   ]
  },
  {
   "cell_type": "code",
   "execution_count": 17,
   "id": "571285d2",
   "metadata": {
    "execution": {
     "iopub.execute_input": "2024-04-01T18:25:25.609426Z",
     "iopub.status.busy": "2024-04-01T18:25:25.608737Z",
     "iopub.status.idle": "2024-04-01T18:25:25.617703Z",
     "shell.execute_reply": "2024-04-01T18:25:25.616813Z"
    },
    "papermill": {
     "duration": 0.026976,
     "end_time": "2024-04-01T18:25:25.620509",
     "exception": false,
     "start_time": "2024-04-01T18:25:25.593533",
     "status": "completed"
    },
    "tags": []
   },
   "outputs": [],
   "source": [
    "X_train, X_test, y_train, y_test = train_test_split(X, y, test_size=0.2, random_state=42)"
   ]
  },
  {
   "cell_type": "markdown",
   "id": "47b8a69c",
   "metadata": {
    "papermill": {
     "duration": 0.013788,
     "end_time": "2024-04-01T18:25:25.648559",
     "exception": false,
     "start_time": "2024-04-01T18:25:25.634771",
     "status": "completed"
    },
    "tags": []
   },
   "source": [
    " # Standardize the Data using standardscaler"
   ]
  },
  {
   "cell_type": "code",
   "execution_count": 18,
   "id": "549154e5",
   "metadata": {
    "execution": {
     "iopub.execute_input": "2024-04-01T18:25:25.677892Z",
     "iopub.status.busy": "2024-04-01T18:25:25.677463Z",
     "iopub.status.idle": "2024-04-01T18:25:25.689566Z",
     "shell.execute_reply": "2024-04-01T18:25:25.688634Z"
    },
    "papermill": {
     "duration": 0.03054,
     "end_time": "2024-04-01T18:25:25.692852",
     "exception": false,
     "start_time": "2024-04-01T18:25:25.662312",
     "status": "completed"
    },
    "tags": []
   },
   "outputs": [],
   "source": [
    "scaler = StandardScaler()\n",
    "X_train = scaler.fit_transform(X_train)\n",
    "X_test = scaler.transform(X_test)"
   ]
  },
  {
   "cell_type": "markdown",
   "id": "2cddcc41",
   "metadata": {
    "papermill": {
     "duration": 0.013075,
     "end_time": "2024-04-01T18:25:25.720125",
     "exception": false,
     "start_time": "2024-04-01T18:25:25.707050",
     "status": "completed"
    },
    "tags": []
   },
   "source": [
    "# Build and Train the Model"
   ]
  },
  {
   "cell_type": "code",
   "execution_count": 19,
   "id": "3840d25e",
   "metadata": {
    "execution": {
     "iopub.execute_input": "2024-04-01T18:25:25.749641Z",
     "iopub.status.busy": "2024-04-01T18:25:25.748678Z",
     "iopub.status.idle": "2024-04-01T18:25:26.043682Z",
     "shell.execute_reply": "2024-04-01T18:25:26.041941Z"
    },
    "papermill": {
     "duration": 0.312668,
     "end_time": "2024-04-01T18:25:26.046359",
     "exception": false,
     "start_time": "2024-04-01T18:25:25.733691",
     "status": "completed"
    },
    "tags": []
   },
   "outputs": [
    {
     "data": {
      "text/html": [
       "<style>#sk-container-id-1 {color: black;background-color: white;}#sk-container-id-1 pre{padding: 0;}#sk-container-id-1 div.sk-toggleable {background-color: white;}#sk-container-id-1 label.sk-toggleable__label {cursor: pointer;display: block;width: 100%;margin-bottom: 0;padding: 0.3em;box-sizing: border-box;text-align: center;}#sk-container-id-1 label.sk-toggleable__label-arrow:before {content: \"▸\";float: left;margin-right: 0.25em;color: #696969;}#sk-container-id-1 label.sk-toggleable__label-arrow:hover:before {color: black;}#sk-container-id-1 div.sk-estimator:hover label.sk-toggleable__label-arrow:before {color: black;}#sk-container-id-1 div.sk-toggleable__content {max-height: 0;max-width: 0;overflow: hidden;text-align: left;background-color: #f0f8ff;}#sk-container-id-1 div.sk-toggleable__content pre {margin: 0.2em;color: black;border-radius: 0.25em;background-color: #f0f8ff;}#sk-container-id-1 input.sk-toggleable__control:checked~div.sk-toggleable__content {max-height: 200px;max-width: 100%;overflow: auto;}#sk-container-id-1 input.sk-toggleable__control:checked~label.sk-toggleable__label-arrow:before {content: \"▾\";}#sk-container-id-1 div.sk-estimator input.sk-toggleable__control:checked~label.sk-toggleable__label {background-color: #d4ebff;}#sk-container-id-1 div.sk-label input.sk-toggleable__control:checked~label.sk-toggleable__label {background-color: #d4ebff;}#sk-container-id-1 input.sk-hidden--visually {border: 0;clip: rect(1px 1px 1px 1px);clip: rect(1px, 1px, 1px, 1px);height: 1px;margin: -1px;overflow: hidden;padding: 0;position: absolute;width: 1px;}#sk-container-id-1 div.sk-estimator {font-family: monospace;background-color: #f0f8ff;border: 1px dotted black;border-radius: 0.25em;box-sizing: border-box;margin-bottom: 0.5em;}#sk-container-id-1 div.sk-estimator:hover {background-color: #d4ebff;}#sk-container-id-1 div.sk-parallel-item::after {content: \"\";width: 100%;border-bottom: 1px solid gray;flex-grow: 1;}#sk-container-id-1 div.sk-label:hover label.sk-toggleable__label {background-color: #d4ebff;}#sk-container-id-1 div.sk-serial::before {content: \"\";position: absolute;border-left: 1px solid gray;box-sizing: border-box;top: 0;bottom: 0;left: 50%;z-index: 0;}#sk-container-id-1 div.sk-serial {display: flex;flex-direction: column;align-items: center;background-color: white;padding-right: 0.2em;padding-left: 0.2em;position: relative;}#sk-container-id-1 div.sk-item {position: relative;z-index: 1;}#sk-container-id-1 div.sk-parallel {display: flex;align-items: stretch;justify-content: center;background-color: white;position: relative;}#sk-container-id-1 div.sk-item::before, #sk-container-id-1 div.sk-parallel-item::before {content: \"\";position: absolute;border-left: 1px solid gray;box-sizing: border-box;top: 0;bottom: 0;left: 50%;z-index: -1;}#sk-container-id-1 div.sk-parallel-item {display: flex;flex-direction: column;z-index: 1;position: relative;background-color: white;}#sk-container-id-1 div.sk-parallel-item:first-child::after {align-self: flex-end;width: 50%;}#sk-container-id-1 div.sk-parallel-item:last-child::after {align-self: flex-start;width: 50%;}#sk-container-id-1 div.sk-parallel-item:only-child::after {width: 0;}#sk-container-id-1 div.sk-dashed-wrapped {border: 1px dashed gray;margin: 0 0.4em 0.5em 0.4em;box-sizing: border-box;padding-bottom: 0.4em;background-color: white;}#sk-container-id-1 div.sk-label label {font-family: monospace;font-weight: bold;display: inline-block;line-height: 1.2em;}#sk-container-id-1 div.sk-label-container {text-align: center;}#sk-container-id-1 div.sk-container {/* jupyter's `normalize.less` sets `[hidden] { display: none; }` but bootstrap.min.css set `[hidden] { display: none !important; }` so we also need the `!important` here to be able to override the default hidden behavior on the sphinx rendered scikit-learn.org. See: https://github.com/scikit-learn/scikit-learn/issues/21755 */display: inline-block !important;position: relative;}#sk-container-id-1 div.sk-text-repr-fallback {display: none;}</style><div id=\"sk-container-id-1\" class=\"sk-top-container\"><div class=\"sk-text-repr-fallback\"><pre>RandomForestClassifier(random_state=42)</pre><b>In a Jupyter environment, please rerun this cell to show the HTML representation or trust the notebook. <br />On GitHub, the HTML representation is unable to render, please try loading this page with nbviewer.org.</b></div><div class=\"sk-container\" hidden><div class=\"sk-item\"><div class=\"sk-estimator sk-toggleable\"><input class=\"sk-toggleable__control sk-hidden--visually\" id=\"sk-estimator-id-1\" type=\"checkbox\" checked><label for=\"sk-estimator-id-1\" class=\"sk-toggleable__label sk-toggleable__label-arrow\">RandomForestClassifier</label><div class=\"sk-toggleable__content\"><pre>RandomForestClassifier(random_state=42)</pre></div></div></div></div></div>"
      ],
      "text/plain": [
       "RandomForestClassifier(random_state=42)"
      ]
     },
     "execution_count": 19,
     "metadata": {},
     "output_type": "execute_result"
    }
   ],
   "source": [
    "model = RandomForestClassifier(random_state=42)\n",
    "model.fit(X_train, y_train)\n"
   ]
  },
  {
   "cell_type": "code",
   "execution_count": 20,
   "id": "63d2d5a1",
   "metadata": {
    "execution": {
     "iopub.execute_input": "2024-04-01T18:25:26.076456Z",
     "iopub.status.busy": "2024-04-01T18:25:26.076014Z",
     "iopub.status.idle": "2024-04-01T18:25:26.092665Z",
     "shell.execute_reply": "2024-04-01T18:25:26.091331Z"
    },
    "papermill": {
     "duration": 0.035282,
     "end_time": "2024-04-01T18:25:26.095696",
     "exception": false,
     "start_time": "2024-04-01T18:25:26.060414",
     "status": "completed"
    },
    "tags": []
   },
   "outputs": [],
   "source": [
    "y_pred = model.predict(X_test)"
   ]
  },
  {
   "cell_type": "markdown",
   "id": "646ac20b",
   "metadata": {
    "papermill": {
     "duration": 0.013927,
     "end_time": "2024-04-01T18:25:26.124361",
     "exception": false,
     "start_time": "2024-04-01T18:25:26.110434",
     "status": "completed"
    },
    "tags": []
   },
   "source": [
    "# model evaluation"
   ]
  },
  {
   "cell_type": "code",
   "execution_count": 21,
   "id": "049de99d",
   "metadata": {
    "execution": {
     "iopub.execute_input": "2024-04-01T18:25:26.156651Z",
     "iopub.status.busy": "2024-04-01T18:25:26.156231Z",
     "iopub.status.idle": "2024-04-01T18:25:26.174842Z",
     "shell.execute_reply": "2024-04-01T18:25:26.173159Z"
    },
    "papermill": {
     "duration": 0.038556,
     "end_time": "2024-04-01T18:25:26.178248",
     "exception": false,
     "start_time": "2024-04-01T18:25:26.139692",
     "status": "completed"
    },
    "tags": []
   },
   "outputs": [
    {
     "name": "stdout",
     "output_type": "stream",
     "text": [
      "Accuracy: 0.82\n",
      "Classification Report:\n",
      "              precision    recall  f1-score   support\n",
      "\n",
      "           0       0.83      0.87      0.85       105\n",
      "           1       0.80      0.76      0.78        74\n",
      "\n",
      "    accuracy                           0.82       179\n",
      "   macro avg       0.82      0.81      0.81       179\n",
      "weighted avg       0.82      0.82      0.82       179\n",
      "\n"
     ]
    }
   ],
   "source": [
    "accuracy = accuracy_score(y_test, y_pred)\n",
    "print(f\"Accuracy: {accuracy:.2f}\")\n",
    "\n",
    "print(\"Classification Report:\")\n",
    "\n",
    "print(classification_report(y_test, y_pred))"
   ]
  },
  {
   "cell_type": "markdown",
   "id": "0420d3ce",
   "metadata": {
    "papermill": {
     "duration": 0.013841,
     "end_time": "2024-04-01T18:25:26.207577",
     "exception": false,
     "start_time": "2024-04-01T18:25:26.193736",
     "status": "completed"
    },
    "tags": []
   },
   "source": [
    "# confusion_matrix for our model"
   ]
  },
  {
   "cell_type": "code",
   "execution_count": 22,
   "id": "40f15d3b",
   "metadata": {
    "execution": {
     "iopub.execute_input": "2024-04-01T18:25:26.239902Z",
     "iopub.status.busy": "2024-04-01T18:25:26.239225Z",
     "iopub.status.idle": "2024-04-01T18:25:26.525315Z",
     "shell.execute_reply": "2024-04-01T18:25:26.523845Z"
    },
    "papermill": {
     "duration": 0.305232,
     "end_time": "2024-04-01T18:25:26.528358",
     "exception": false,
     "start_time": "2024-04-01T18:25:26.223126",
     "status": "completed"
    },
    "tags": []
   },
   "outputs": [
    {
     "data": {
      "image/png": "[encoded data removed]",
      "text/plain": [
       "<Figure size 640x480 with 2 Axes>"
      ]
     },
     "metadata": {},
     "output_type": "display_data"
    }
   ],
   "source": [
    "conf_matrix = confusion_matrix(y_test, y_pred)\n",
    "sns.heatmap(conf_matrix, annot=True, fmt=\"d\", cmap=\"Blues\")\n",
    "plt.xlabel('Predicted')\n",
    "plt.ylabel('True')\n",
    "plt.show()"
   ]
  },
  {
   "cell_type": "code",
   "execution_count": 23,
   "id": "c0bcf664",
   "metadata": {
    "execution": {
     "iopub.execute_input": "2024-04-01T18:25:26.562783Z",
     "iopub.status.busy": "2024-04-01T18:25:26.562352Z",
     "iopub.status.idle": "2024-04-01T18:25:26.974233Z",
     "shell.execute_reply": "2024-04-01T18:25:26.972351Z"
    },
    "papermill": {
     "duration": 0.433655,
     "end_time": "2024-04-01T18:25:26.977635",
     "exception": false,
     "start_time": "2024-04-01T18:25:26.543980",
     "status": "completed"
    },
    "tags": []
   },
   "outputs": [
    {
     "data": {
      "image/png": "[encoded data removed]",
      "text/plain": [
       "<Figure size 1000x600 with 1 Axes>"
      ]
     },
     "metadata": {},
     "output_type": "display_data"
    }
   ],
   "source": [
    "\n",
    "# Scatter Plot: Age vs. Fare\n",
    "plt.figure(figsize=(10, 6))\n",
    "sns.scatterplot(x='Age', y='Fare', hue='Survived', data=df)\n",
    "plt.title('Scatter Plot: Age vs. Fare')\n",
    "plt.show()"
   ]
  },
  {
   "cell_type": "code",
   "execution_count": 24,
   "id": "6c924d26",
   "metadata": {
    "execution": {
     "iopub.execute_input": "2024-04-01T18:25:27.014775Z",
     "iopub.status.busy": "2024-04-01T18:25:27.014344Z",
     "iopub.status.idle": "2024-04-01T18:25:27.205548Z",
     "shell.execute_reply": "2024-04-01T18:25:27.204174Z"
    },
    "papermill": {
     "duration": 0.213489,
     "end_time": "2024-04-01T18:25:27.208411",
     "exception": false,
     "start_time": "2024-04-01T18:25:26.994922",
     "status": "completed"
    },
    "tags": []
   },
   "outputs": [
    {
     "data": {
      "image/png": "[encoded data removed]",
      "text/plain": [
       "<Figure size 800x500 with 1 Axes>"
      ]
     },
     "metadata": {},
     "output_type": "display_data"
    }
   ],
   "source": [
    "# Bar Graph: Survival Count\n",
    "plt.figure(figsize=(8, 5))\n",
    "sns.countplot(x='Survived', data=df)\n",
    "plt.title('Survival Count')\n",
    "plt.show()"
   ]
  },
  {
   "cell_type": "code",
   "execution_count": 25,
   "id": "5c4fc4bf",
   "metadata": {
    "execution": {
     "iopub.execute_input": "2024-04-01T18:25:27.244081Z",
     "iopub.status.busy": "2024-04-01T18:25:27.243642Z",
     "iopub.status.idle": "2024-04-01T18:25:27.685795Z",
     "shell.execute_reply": "2024-04-01T18:25:27.684764Z"
    },
    "papermill": {
     "duration": 0.463677,
     "end_time": "2024-04-01T18:25:27.688331",
     "exception": false,
     "start_time": "2024-04-01T18:25:27.224654",
     "status": "completed"
    },
    "tags": []
   },
   "outputs": [
    {
     "name": "stderr",
     "output_type": "stream",
     "text": [
      "/opt/conda/lib/python3.10/site-packages/seaborn/_oldcore.py:1119: FutureWarning: use_inf_as_na option is deprecated and will be removed in a future version. Convert inf values to NaN before operating instead.\n",
      "  with pd.option_context('mode.use_inf_as_na', True):\n"
     ]
    },
    {
     "data": {
      "image/png": "[encoded data removed]",
      "text/plain": [
       "<Figure size 700x500 with 1 Axes>"
      ]
     },
     "metadata": {},
     "output_type": "display_data"
    }
   ],
   "source": [
    "#Histogram: Age Distribution\n",
    "plt.figure(figsize=(7, 5))\n",
    "sns.histplot(df['Age'].dropna(), bins=25, kde=True, color='blue')\n",
    "plt.title('Age Distribution')\n",
    "plt.xlabel('Age')\n",
    "plt.show()"
   ]
  },
  {
   "cell_type": "code",
   "execution_count": 26,
   "id": "79739985",
   "metadata": {
    "execution": {
     "iopub.execute_input": "2024-04-01T18:25:27.725664Z",
     "iopub.status.busy": "2024-04-01T18:25:27.725204Z",
     "iopub.status.idle": "2024-04-01T18:25:27.861496Z",
     "shell.execute_reply": "2024-04-01T18:25:27.860613Z"
    },
    "papermill": {
     "duration": 0.160854,
     "end_time": "2024-04-01T18:25:27.867523",
     "exception": false,
     "start_time": "2024-04-01T18:25:27.706669",
     "status": "completed"
    },
    "tags": []
   },
   "outputs": [
    {
     "data": {
      "image/png": "[encoded data removed]",
      "text/plain": [
       "<Figure size 800x800 with 1 Axes>"
      ]
     },
     "metadata": {},
     "output_type": "display_data"
    }
   ],
   "source": [
    "# Pie Chart: Gender Distribution\n",
    "plt.figure(figsize=(8, 8))\n",
    "gender_distribution = df['Sex_male'].value_counts()\n",
    "plt.pie(gender_distribution , labels=gender_distribution.index, autopct='%1.1f%%', startangle=90, colors=['lightblue', 'lightcoral'])\n",
    "plt.title('Gender Distribution')\n",
    "\n",
    "plt.show()"
   ]
  }
 ],
 "metadata": {
  "kaggle": {
   "accelerator": "none",
   "dataSources": [
    {
     "datasetId": 4710996,
     "sourceId": 8000156,
     "sourceType": "datasetVersion"
    }
   ],
   "dockerImageVersionId": 30673,
   "isGpuEnabled": false,
   "isInternetEnabled": true,
   "language": "python",
   "sourceType": "notebook"
  },
  "kernelspec": {
   "display_name": "Python 3",
   "language": "python",
   "name": "python3"
  },
  "language_info": {
   "codemirror_mode": {
    "name": "ipython",
    "version": 3
   },
   "file_extension": ".py",
   "mimetype": "text/x-python",
   "name": "python",
   "nbconvert_exporter": "python",
   "pygments_lexer": "ipython3",
   "version": "3.10.13"
  },
  "papermill": {
   "default_parameters": {},
   "duration": 11.06271,
   "end_time": "2024-04-01T18:25:28.731218",
   "environment_variables": {},
   "exception": null,
   "input_path": "__notebook__.ipynb",
   "output_path": "__notebook__.ipynb",
   "parameters": {},
   "start_time": "2024-04-01T18:25:17.668508",
   "version": "2.5.0"
  }
 },
 "nbformat": 4,
 "nbformat_minor": 5
}
